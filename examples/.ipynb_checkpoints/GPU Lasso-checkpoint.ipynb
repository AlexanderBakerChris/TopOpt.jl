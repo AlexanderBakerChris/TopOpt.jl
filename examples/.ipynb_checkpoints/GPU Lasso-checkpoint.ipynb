{
 "cells": [
  {
   "cell_type": "code",
   "execution_count": 1,
   "metadata": {
    "collapsed": false
   },
   "outputs": [],
   "source": [
    "using TopOpt.GPUUtils, TopOpt.MMA, CUDAnative, CuArrays, LinearAlgebra, SparseArrays, Random, Optim, Suppressor\n",
    "import CUDAdrv"
   ]
  },
  {
   "cell_type": "code",
   "execution_count": 2,
   "metadata": {
    "collapsed": false
   },
   "outputs": [],
   "source": [
    "struct Loss{TV, TM} <: Function\n",
    "    B::TM\n",
    "    c::TV\n",
    "    r::TV\n",
    "end\n",
    "function (f::Loss)(w, grad)\n",
    "    #if w isa Array\n",
    "    #    sleep(0.1)\n",
    "    #end\n",
    "    mul!(f.r, f.B, w)\n",
    "    grad .= 2 .* f.r .- 2 .* f.c\n",
    "    return dot(f.r, w) - 2 * dot(f.c, w) + dot(w, w)    \n",
    "end\n",
    "GPUUtils.whichdevice(l::Loss) = GPUUtils.whichdevice(l.B);"
   ]
  },
  {
   "cell_type": "code",
   "execution_count": 3,
   "metadata": {
    "collapsed": false
   },
   "outputs": [],
   "source": [
    "struct HeterLoss{TV, TV2, TM} <: Function\n",
    "    B::TM\n",
    "    c::TV\n",
    "    r::TV\n",
    "    w::TV2\n",
    "    grad::TV2\n",
    "end\n",
    "function HeterLoss(B, y, r)\n",
    "    w = CuArray(r)\n",
    "    grad = similar(w)\n",
    "    return HeterLoss(B, c, r, w, grad)\n",
    "end\n",
    "function (f::HeterLoss)(w, grad)\n",
    "    copyto!(f.w, w)\n",
    "    mul!(f.r, f.B, f.w)\n",
    "    f.grad .= 2 .* f.r .- 2 .* f.c\n",
    "    copyto!(grad, f.grad)\n",
    "    \n",
    "    return dot(f.r, f.w) - 2 * dot(f.c, f.w) + dot(f.w, f.w)\n",
    "end\n",
    "GPUUtils.whichdevice(l::Loss) = GPUUtils.CPU();"
   ]
  },
  {
   "cell_type": "code",
   "execution_count": 4,
   "metadata": {
    "collapsed": true
   },
   "outputs": [],
   "source": [
    "nparams = 4000;\n",
    "npoints = 10;"
   ]
  },
  {
   "cell_type": "code",
   "execution_count": 5,
   "metadata": {
    "collapsed": false
   },
   "outputs": [
    {
     "data": {
      "text/plain": [
       "onenormlower (generic function with 1 method)"
      ]
     },
     "execution_count": 5,
     "metadata": {},
     "output_type": "execute_result"
    }
   ],
   "source": [
    "struct LowerBound{T} <: Function\n",
    "    v::T\n",
    "end\n",
    "struct UpperBound{T} <: Function\n",
    "    v::T\n",
    "end\n",
    "(b::LowerBound)(w, grad) = onenormlower(w, grad, b.v)\n",
    "(b::UpperBound)(w, grad) = onenormupper(w, grad, b.v)\n",
    "\n",
    "function onenormupper(w, grad, limit)\n",
    "    grad .= sign.(w)\n",
    "    return norm(w, 1) - limit\n",
    "end\n",
    "function onenormlower(w, grad, limit)\n",
    "    grad .= -sign.(w)\n",
    "    return limit - norm(w, 1)\n",
    "end"
   ]
  },
  {
   "cell_type": "code",
   "execution_count": 6,
   "metadata": {
    "collapsed": true
   },
   "outputs": [],
   "source": [
    "Random.seed!(1);\n",
    "lb = 5.0;\n",
    "ub = 50.0;"
   ]
  },
  {
   "cell_type": "code",
   "execution_count": 7,
   "metadata": {
    "collapsed": false
   },
   "outputs": [
    {
     "data": {
      "text/plain": [
       "(::Loss{Array{Float64,1},SparseMatrixCSC{Float64,Int64}}) (generic function with 1 method)"
      ]
     },
     "execution_count": 7,
     "metadata": {},
     "output_type": "execute_result"
    }
   ],
   "source": [
    "X_cpu = sprand(npoints, nparams, 5/nparams);\n",
    "B_cpu = X_cpu' * X_cpu\n",
    "true_w_cpu = Vector(sprand(nparams, (lb+ub)/2/nparams));\n",
    "y_cpu = X_cpu * true_w_cpu;\n",
    "c_cpu = X_cpu' * y_cpu\n",
    "r_cpu = similar(c_cpu)\n",
    "w0_cpu = rand(nparams);\n",
    "cpuloss = Loss(B_cpu, c_cpu, r_cpu)"
   ]
  },
  {
   "cell_type": "code",
   "execution_count": 12,
   "metadata": {
    "collapsed": false
   },
   "outputs": [
    {
     "name": "stdout",
     "output_type": "stream",
     "text": [
      "  0.085705 seconds (42.79 k allocations: 3.000 MiB)\n"
     ]
    }
   ],
   "source": [
    "m_cpu = MMAModel(nparams, cpuloss, xtol = 1e-4, maxiter = 200);\n",
    "box!(m_cpu, 0.0, 1.0);\n",
    "ineq_constraint!(m_cpu, UpperBound(ub));\n",
    "#ineq_constraint!(m_cpu, LowerBound(lb));\n",
    "\n",
    "@time @suppress MMA.optimize(m_cpu, w0_cpu, MMA.MMA87(), Optim.ConjugateGradient(), dual_caps = (0.0, 100.0));"
   ]
  },
  {
   "cell_type": "code",
   "execution_count": 14,
   "metadata": {
    "collapsed": false
   },
   "outputs": [],
   "source": [
    "B_gpu = CuArrays.CUSPARSE.CuSparseMatrixCSC(B_cpu);\n",
    "c_gpu = CuArray(c_cpu)\n",
    "r_gpu = CuArray(r_cpu)\n",
    "w0_gpu = CuArray(w0_cpu);\n",
    "gpuloss = Loss(B_gpu, c_gpu, r_gpu);"
   ]
  },
  {
   "cell_type": "code",
   "execution_count": 15,
   "metadata": {
    "collapsed": false
   },
   "outputs": [
    {
     "ename": "UndefVarError",
     "evalue": "UndefVarError: X_gpu not defined",
     "output_type": "error",
     "traceback": [
      "UndefVarError: X_gpu not defined",
      "",
      "Stacktrace:",
      " [1] top-level scope at In[15]:1"
     ]
    }
   ],
   "source": [
    "heterloss = HeterLoss(X_gpu, y_gpu);\n",
    "m_heter = MMAModel(nparams, heterloss, xtol = 1e-4, maxiter = 200);\n",
    "box!(m_heter, 0.0, 1.0);\n",
    "ineq_constraint!(m_heter, UpperBound(ub));\n",
    "#ineq_constraint!(m_cpu, LowerBound(lb));\n",
    "\n",
    "@time @suppress MMA.optimize(m_heter, w0_cpu, MMA.MMA87(), Optim.ConjugateGradient(), dual_caps = (0.0, 100.0));"
   ]
  },
  {
   "cell_type": "code",
   "execution_count": 26,
   "metadata": {
    "collapsed": false
   },
   "outputs": [
    {
     "name": "stdout",
     "output_type": "stream",
     "text": [
      "  7.517029 seconds (3.02 M allocations: 192.312 MiB, 0.50% gc time)\n"
     ]
    }
   ],
   "source": [
    "m_gpu = MMAModel(nparams, gpuloss, xtol = 1e-4, maxiter = 200);\n",
    "box!(m_gpu, 0.0, 1.0);\n",
    "ineq_constraint!(m_gpu, UpperBound(ub));\n",
    "#ineq_constraint!(m_gpu, LowerBound(lb));\n",
    "\n",
    "@time @suppress MMA.optimize(m_gpu, w0_gpu, MMA.MMA87(), Optim.ConjugateGradient(), dual_caps = (0.0, 100.0));"
   ]
  },
  {
   "cell_type": "code",
   "execution_count": 13,
   "metadata": {
    "collapsed": false
   },
   "outputs": [
    {
     "name": "stdout",
     "output_type": "stream",
     "text": [
      "  0.205466 seconds (347.82 k allocations: 17.369 MiB, 2.72% gc time)\n"
     ]
    }
   ],
   "source": [
    "grad_cpu = similar(w0_cpu)\n",
    "@time cpuloss(w0_cpu, grad_cpu);"
   ]
  },
  {
   "cell_type": "code",
   "execution_count": 31,
   "metadata": {
    "collapsed": false
   },
   "outputs": [
    {
     "name": "stdout",
     "output_type": "stream",
     "text": [
      "  0.002568 seconds (62 allocations: 3.016 KiB)\n"
     ]
    }
   ],
   "source": [
    "grad_gpu = similar(w0_gpu)\n",
    "@time gpuloss(w0_gpu, grad_gpu);"
   ]
  },
  {
   "cell_type": "code",
   "execution_count": null,
   "metadata": {
    "collapsed": true
   },
   "outputs": [],
   "source": []
  }
 ],
 "metadata": {
  "kernelspec": {
   "display_name": "Julia 1.0.2",
   "language": "julia",
   "name": "julia-1.0"
  },
  "language_info": {
   "file_extension": ".jl",
   "mimetype": "application/julia",
   "name": "julia",
   "version": "1.0.2"
  }
 },
 "nbformat": 4,
 "nbformat_minor": 2
}
